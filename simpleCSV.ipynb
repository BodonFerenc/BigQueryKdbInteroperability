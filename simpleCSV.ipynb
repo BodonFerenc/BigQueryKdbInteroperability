{
 "cells": [
  {
   "cell_type": "code",
   "execution_count": 1,
   "metadata": {},
   "outputs": [],
   "source": [
    "project: getenv `project_id\n",
    "csbucketname: getenv `csbucketname"
   ]
  },
  {
   "cell_type": "markdown",
   "metadata": {},
   "source": [
    "# From BigQuery to kdb"
   ]
  },
  {
   "cell_type": "code",
   "execution_count": 2,
   "metadata": {},
   "outputs": [
    {
     "name": "stderr",
     "output_type": "stream",
     "text": [
      "Waiting on bqjob_r47c87866bd7f4e18_0000016e4623160f_1 ... (0s) Current status: DONE   "
     ]
    },
    {
     "data": {
      "text/plain": [
       "\"\"\n"
      ]
     },
     "execution_count": 2,
     "metadata": {},
     "output_type": "execute_result"
    }
   ],
   "source": [
    "// extract from BigQuery to Cloud Storage\n",
    "system \"bq extract \", project, \":bqkdb.allBQSimpleTypes gs://\", csbucketname, \"/allBQSimpleTypes.csv\""
   ]
  },
  {
   "cell_type": "code",
   "execution_count": 3,
   "metadata": {},
   "outputs": [],
   "source": [
    "csfilename: \"gs://\", csbucketname, \"/allBQSimpleTypes.csv\""
   ]
  },
  {
   "cell_type": "code",
   "execution_count": 4,
   "metadata": {
    "scrolled": false
   },
   "outputs": [
    {
     "name": "stderr",
     "output_type": "stream",
     "text": [
      "Copying gs://storagebodon/allBQSimpleTypes.csv...\n",
      "- [1 files][  1.6 KiB/  1.6 KiB]                                                \n",
      "Operation completed over 1 objects/1.6 KiB.                                      \n"
     ]
    },
    {
     "data": {
      "text/plain": []
     },
     "execution_count": 4,
     "metadata": {},
     "output_type": "execute_result"
    }
   ],
   "source": [
    "// Copy from Cloud Storage to local box\n",
    "system \"gsutil cp \", csfilename, \" /tmp/\""
   ]
  },
  {
   "cell_type": "markdown",
   "metadata": {},
   "source": [
    "## Setting types manually\n",
    "\n",
    "* using q time results in losing microsecond precision\n",
    "* postprocessing is needed for types \n",
    "    * BOOL\n",
    "    * TIMESTAMP"
   ]
  },
  {
   "cell_type": "code",
   "execution_count": 5,
   "metadata": {},
   "outputs": [],
   "source": [
    "allBQSimpleTypes: (\"sIF**DTP\"; enlist \",\") 0: read0 hsym `$\"/tmp/allBQSimpleTypes.csv\""
   ]
  },
  {
   "cell_type": "code",
   "execution_count": 22,
   "metadata": {},
   "outputs": [],
   "source": [
    "\\c 25 125"
   ]
  },
  {
   "cell_type": "code",
   "execution_count": 23,
   "metadata": {
    "scrolled": true
   },
   "outputs": [
    {
     "data": {
      "text/plain": [
       "s    int f     b       ts                               date       time         dt                           \n",
       "-------------------------------------------------------------------------------------------------------------\n",
       "AAPL 200 104.9 \"false\" \"2019-11-04 14:06:15.048017 UTC\" 2019.11.04 14:06:15.048 2019.11.04D14:06:15.048017000\n",
       "AAPL 200 104.9 \"false\" \"2019-11-04 14:15:50.695853 UTC\" 2019.11.04 14:15:50.695 2019.11.04D14:15:50.695853000\n",
       "AAPL 200 104.9 \"false\" \"2019-11-04 14:16:36.648513 UTC\" 2019.11.04 14:16:36.648 2019.11.04D14:16:36.648513000\n",
       "AAPL 200 104.9 \"false\" \"2019-11-04 14:17:06.165037 UTC\" 2019.11.04 14:17:06.165 2019.11.04D14:17:06.165037000\n",
       "AAPL 200 104.9 \"false\" \"2019-11-04 14:17:25.185851 UTC\" 2019.11.04 14:17:25.185 2019.11.04D14:17:25.185851000\n",
       "AAPL 200 104.9 \"false\" \"2019-11-04 14:17:45.804987 UTC\" 2019.11.04 14:17:45.804 2019.11.04D14:17:45.804987000\n",
       "AAPL 200 104.9 \"false\" \"2019-11-04 16:18:49.093655 UTC\" 2019.11.04 16:18:49.093 2019.11.04D16:18:49.093655000\n",
       "GOOG 42  100.3 \"true\"  \"2019-11-04 14:05:07.166154 UTC\" 2019.11.04 14:05:07.166 2019.11.04D14:05:07.166154000\n",
       "GOOG 42  100.3 \"true\"  \"2019-11-04 14:06:15.048017 UTC\" 2019.11.04 14:06:15.048 2019.11.04D14:06:15.048017000\n",
       "GOOG 42  100.3 \"true\"  \"2019-11-04 14:15:50.695853 UTC\" 2019.11.04 14:15:50.695 2019.11.04D14:15:50.695853000\n",
       "GOOG 42  100.3 \"true\"  \"2019-11-04 14:16:36.648513 UTC\" 2019.11.04 14:16:36.648 2019.11.04D14:16:36.648513000\n",
       "GOOG 42  100.3 \"true\"  \"2019-11-04 14:17:06.165037 UTC\" 2019.11.04 14:17:06.165 2019.11.04D14:17:06.165037000\n",
       "GOOG 42  100.3 \"true\"  \"2019-11-04 14:17:25.185851 UTC\" 2019.11.04 14:17:25.185 2019.11.04D14:17:25.185851000\n",
       "GOOG 42  100.3 \"true\"  \"2019-11-04 14:17:45.804987 UTC\" 2019.11.04 14:17:45.804 2019.11.04D14:17:45.804987000\n",
       "GOOG 42  100.3 \"true\"  \"2019-11-06 01:45:00 UTC\"        2019.11.04 16:18:49.093 2019.11.04D16:18:49.093655000\n"
      ]
     },
     "execution_count": 23,
     "metadata": {},
     "output_type": "execute_result"
    }
   ],
   "source": [
    "allBQSimpleTypes"
   ]
  },
  {
   "cell_type": "markdown",
   "metadata": {},
   "source": [
    "Converting true/false literals to bool values"
   ]
  },
  {
   "cell_type": "code",
   "execution_count": 7,
   "metadata": {},
   "outputs": [],
   "source": [
    "bigQueryToKdbBoolMap: (\"true\";\"false\")!10b"
   ]
  },
  {
   "cell_type": "code",
   "execution_count": 8,
   "metadata": {
    "scrolled": false
   },
   "outputs": [],
   "source": [
    "allBQSimpleTypes_fixed: update bigQueryToKdbBoolMap b from allBQSimpleTypes"
   ]
  },
  {
   "cell_type": "markdown",
   "metadata": {},
   "source": [
    "Converting timestamps by chopping of \" UTC\" postfix."
   ]
  },
  {
   "cell_type": "code",
   "execution_count": 9,
   "metadata": {},
   "outputs": [
    {
     "data": {
      "text/plain": [
       "`allBQSimpleTypes_fixed\n"
      ]
     },
     "execution_count": 9,
     "metadata": {},
     "output_type": "execute_result"
    }
   ],
   "source": [
    "update \"P\"$-4_/:ts from `allBQSimpleTypes_fixed"
   ]
  },
  {
   "cell_type": "code",
   "execution_count": 10,
   "metadata": {},
   "outputs": [
    {
     "data": {
      "text/plain": [
       "s    int f     b ts                            date       time         dt    ..\n",
       "-----------------------------------------------------------------------------..\n",
       "AAPL 200 104.9 0 2019.11.04D14:06:15.048017000 2019.11.04 14:06:15.048 2019.1..\n",
       "AAPL 200 104.9 0 2019.11.04D14:15:50.695853000 2019.11.04 14:15:50.695 2019.1..\n",
       "AAPL 200 104.9 0 2019.11.04D14:16:36.648513000 2019.11.04 14:16:36.648 2019.1..\n",
       "AAPL 200 104.9 0 2019.11.04D14:17:06.165037000 2019.11.04 14:17:06.165 2019.1..\n",
       "AAPL 200 104.9 0 2019.11.04D14:17:25.185851000 2019.11.04 14:17:25.185 2019.1..\n",
       "AAPL 200 104.9 0 2019.11.04D14:17:45.804987000 2019.11.04 14:17:45.804 2019.1..\n",
       "AAPL 200 104.9 0 2019.11.04D16:18:49.093655000 2019.11.04 16:18:49.093 2019.1..\n",
       "GOOG 42  100.3 1 2019.11.04D14:05:07.166154000 2019.11.04 14:05:07.166 2019.1..\n",
       "GOOG 42  100.3 1 2019.11.04D14:06:15.048017000 2019.11.04 14:06:15.048 2019.1..\n",
       "GOOG 42  100.3 1 2019.11.04D14:15:50.695853000 2019.11.04 14:15:50.695 2019.1..\n",
       "GOOG 42  100.3 1 2019.11.04D14:16:36.648513000 2019.11.04 14:16:36.648 2019.1..\n",
       "GOOG 42  100.3 1 2019.11.04D14:17:06.165037000 2019.11.04 14:17:06.165 2019.1..\n",
       "GOOG 42  100.3 1 2019.11.04D14:17:25.185851000 2019.11.04 14:17:25.185 2019.1..\n",
       "GOOG 42  100.3 1 2019.11.04D14:17:45.804987000 2019.11.04 14:17:45.804 2019.1..\n",
       "GOOG 42  100.3 1 2019.11.06D01:45:00.000000000 2019.11.04 16:18:49.093 2019.1..\n"
      ]
     },
     "execution_count": 10,
     "metadata": {},
     "output_type": "execute_result"
    }
   ],
   "source": [
    "allBQSimpleTypes_fixed"
   ]
  },
  {
   "cell_type": "markdown",
   "metadata": {},
   "source": [
    "## Automatic type conversion"
   ]
  },
  {
   "cell_type": "code",
   "execution_count": 24,
   "metadata": {},
   "outputs": [],
   "source": [
    "\\l utils/csvutil.q"
   ]
  },
  {
   "cell_type": "code",
   "execution_count": 10,
   "metadata": {
    "scrolled": true
   },
   "outputs": [
    {
     "ename": "\u001b[0;31m.csv.read\u001b[0m",
     "evalue": "\u001b[0;31m.csv.read\u001b[0m",
     "output_type": "error",
     "traceback": [
      "\u001b[0;31mevaluation error:\n\u001b[0m",
      "\u001b[0;31m.csv.read\u001b[0m",
      "\u001b[0;31m\u001b[0m",
      "\u001b[0;31m  [0]  allBQSimpleTypes_auto: .csv.read hsym `$\"/tmp/allBQSimpleTypes.csv\"\n                              ^\n\u001b[0m"
     ]
    }
   ],
   "source": [
    "allBQSimpleTypes_auto: .csv.read hsym `$\"/tmp/allBQSimpleTypes.csv\""
   ]
  },
  {
   "cell_type": "code",
   "execution_count": 10,
   "metadata": {},
   "outputs": [
    {
     "ename": "\u001b[0;31mallBQSimpleTypes_auto\u001b[0m",
     "evalue": "\u001b[0;31mallBQSimpleTypes_auto\u001b[0m",
     "output_type": "error",
     "traceback": [
      "\u001b[0;31mevaluation error:\n\u001b[0m",
      "\u001b[0;31mallBQSimpleTypes_auto\u001b[0m",
      "\u001b[0;31m\u001b[0m",
      "\u001b[0;31m  [0]  allBQSimpleTypes_auto\n       ^\n\u001b[0m"
     ]
    }
   ],
   "source": [
    "allBQSimpleTypes_auto"
   ]
  },
  {
   "cell_type": "code",
   "execution_count": 10,
   "metadata": {
    "scrolled": false
   },
   "outputs": [
    {
     "ename": "\u001b[0;31mallBQSimpleTypes_auto\u001b[0m",
     "evalue": "\u001b[0;31mallBQSimpleTypes_auto\u001b[0m",
     "output_type": "error",
     "traceback": [
      "\u001b[0;31mevaluation error:\n\u001b[0m",
      "\u001b[0;31mallBQSimpleTypes_auto\u001b[0m",
      "\u001b[0;31m\u001b[0m",
      "\u001b[0;31m  [0]  meta allBQSimpleTypes_auto\n            ^\n\u001b[0m"
     ]
    }
   ],
   "source": [
    "meta allBQSimpleTypes_auto"
   ]
  },
  {
   "cell_type": "markdown",
   "metadata": {},
   "source": [
    "Automatic type conversion works well for all types except for BOOL and TIMESTAMP."
   ]
  },
  {
   "cell_type": "markdown",
   "metadata": {},
   "source": [
    "# From kdb to BigQuery\n",
    "\n",
    "Let us save the fixed kdb table to CSV"
   ]
  },
  {
   "cell_type": "code",
   "execution_count": 11,
   "metadata": {},
   "outputs": [
    {
     "data": {
      "text/plain": [
       "`:/tmp/allBQSimpleTypes_fixed.csv\n"
      ]
     },
     "execution_count": 11,
     "metadata": {},
     "output_type": "execute_result"
    }
   ],
   "source": [
    "save `:/tmp/allBQSimpleTypes_fixed.csv"
   ]
  },
  {
   "cell_type": "code",
   "execution_count": 12,
   "metadata": {},
   "outputs": [
    {
     "name": "stderr",
     "output_type": "stream",
     "text": [
      "Waiting on bqjob_r60b98cca9dba000b_0000016e462330d5_1 ... (5s) Current status: DONE   "
     ]
    },
    {
     "data": {
      "text/plain": [
       "\"\"\n",
       "\"\"\n"
      ]
     },
     "execution_count": 12,
     "metadata": {},
     "output_type": "execute_result"
    }
   ],
   "source": [
    "system \"bq load --autodetect bqkdb.allBQSimpleTypes_auto /tmp/allBQSimpleTypes_fixed.csv\""
   ]
  },
  {
   "cell_type": "markdown",
   "metadata": {},
   "source": [
    "We can see that boolean (b) and timestamp columns (ts, dt) are not casted properly, they are string columns."
   ]
  },
  {
   "cell_type": "code",
   "execution_count": 13,
   "metadata": {
    "scrolled": false
   },
   "outputs": [
    {
     "data": {
      "text/plain": [
       "\"Table ferenc-world:bqkdb.allBQSimpleTypes_auto\"\n",
       "\"\"\n",
       "\"   Last modified        Schema        Total Rows   Total Bytes   Expiration ..\n",
       "\" ----------------- ----------------- ------------ ------------- ------------..\n",
       "\"  07 Nov 14:52:40   |- s: string      15           1620                     ..\n",
       "\"                    |- int: integer                                         ..\n",
       "\"                    |- f: float                                             ..\n",
       "\"                    |- b: integer                                           ..\n",
       "\"                    |- ts: string                                           ..\n",
       "\"                    |- date: date                                           ..\n",
       "\"                    |- time: time                                           ..\n",
       "\"                    |- dt: string                                           ..\n",
       "\"\"\n"
      ]
     },
     "execution_count": 13,
     "metadata": {},
     "output_type": "execute_result"
    }
   ],
   "source": [
    "system \"bq show bqkdb.allBQSimpleTypes_auto\""
   ]
  },
  {
   "cell_type": "markdown",
   "metadata": {},
   "source": [
    "We can convert bool and timestamp manually in q"
   ]
  },
  {
   "cell_type": "code",
   "execution_count": 14,
   "metadata": {},
   "outputs": [],
   "source": [
    "kdbToBigQueryBoolMap: value[bigQueryToKdbBoolMap]!key bigQueryToKdbBoolMap"
   ]
  },
  {
   "cell_type": "code",
   "execution_count": 15,
   "metadata": {},
   "outputs": [],
   "source": [
    "allBQSimpleTypes2: update kdbToBigQueryBoolMap b,\n",
    "    @[; 4 7 10; :; \"-- \"] each string ts, \n",
    "    @[; 4 7 10; :; \"-- \"] each string dt from allBQSimpleTypes_fixed"
   ]
  },
  {
   "cell_type": "code",
   "execution_count": 16,
   "metadata": {},
   "outputs": [
    {
     "data": {
      "text/plain": [
       "s    int f     b       ts                              date       time       ..\n",
       "-----------------------------------------------------------------------------..\n",
       "AAPL 200 104.9 \"false\" \"2019-11-04 14:06:15.048017000\" 2019.11.04 14:06:15.04..\n",
       "AAPL 200 104.9 \"false\" \"2019-11-04 14:15:50.695853000\" 2019.11.04 14:15:50.69..\n",
       "AAPL 200 104.9 \"false\" \"2019-11-04 14:16:36.648513000\" 2019.11.04 14:16:36.64..\n",
       "AAPL 200 104.9 \"false\" \"2019-11-04 14:17:06.165037000\" 2019.11.04 14:17:06.16..\n",
       "AAPL 200 104.9 \"false\" \"2019-11-04 14:17:25.185851000\" 2019.11.04 14:17:25.18..\n",
       "AAPL 200 104.9 \"false\" \"2019-11-04 14:17:45.804987000\" 2019.11.04 14:17:45.80..\n",
       "AAPL 200 104.9 \"false\" \"2019-11-04 16:18:49.093655000\" 2019.11.04 16:18:49.09..\n",
       "GOOG 42  100.3 \"true\"  \"2019-11-04 14:05:07.166154000\" 2019.11.04 14:05:07.16..\n",
       "GOOG 42  100.3 \"true\"  \"2019-11-04 14:06:15.048017000\" 2019.11.04 14:06:15.04..\n",
       "GOOG 42  100.3 \"true\"  \"2019-11-04 14:15:50.695853000\" 2019.11.04 14:15:50.69..\n",
       "GOOG 42  100.3 \"true\"  \"2019-11-04 14:16:36.648513000\" 2019.11.04 14:16:36.64..\n",
       "GOOG 42  100.3 \"true\"  \"2019-11-04 14:17:06.165037000\" 2019.11.04 14:17:06.16..\n",
       "GOOG 42  100.3 \"true\"  \"2019-11-04 14:17:25.185851000\" 2019.11.04 14:17:25.18..\n",
       "GOOG 42  100.3 \"true\"  \"2019-11-04 14:17:45.804987000\" 2019.11.04 14:17:45.80..\n",
       "GOOG 42  100.3 \"true\"  \"2019-11-06 01:45:00.000000000\" 2019.11.04 16:18:49.09..\n"
      ]
     },
     "execution_count": 16,
     "metadata": {},
     "output_type": "execute_result"
    }
   ],
   "source": [
    "allBQSimpleTypes2"
   ]
  },
  {
   "cell_type": "code",
   "execution_count": 17,
   "metadata": {},
   "outputs": [
    {
     "data": {
      "text/plain": [
       "`:/tmp/allBQSimpleTypes2.csv\n"
      ]
     },
     "execution_count": 17,
     "metadata": {},
     "output_type": "execute_result"
    },
    {
     "name": "stderr",
     "output_type": "stream",
     "text": [
      "Waiting on bqjob_r2e4eb136b1937b82_0000016e462383ee_1 ... (1s) Current status: DONE   "
     ]
    },
    {
     "data": {
      "text/plain": [
       "\"\"\n",
       "\"\"\n"
      ]
     },
     "execution_count": 17,
     "metadata": {},
     "output_type": "execute_result"
    }
   ],
   "source": [
    "save `:/tmp/allBQSimpleTypes2.csv\n",
    "system \"bq load --autodetect bqkdb.allBQSimpleTypes2 /tmp/allBQSimpleTypes2.csv\""
   ]
  },
  {
   "cell_type": "code",
   "execution_count": 18,
   "metadata": {
    "scrolled": true
   },
   "outputs": [
    {
     "data": {
      "text/plain": [
       "\"Table ferenc-world:bqkdb.allBQSimpleTypes2\"\n",
       "\"\"\n",
       "\"   Last modified         Schema        Total Rows   Total Bytes   Expiration..\n",
       "\" ----------------- ------------------ ------------ ------------- -----------..\n",
       "\"  07 Nov 14:52:57   |- s: string       30           1650                    ..\n",
       "\"                    |- int: integer                                         ..\n",
       "\"                    |- f: float                                             ..\n",
       "\"                    |- b: boolean                                           ..\n",
       "\"                    |- ts: timestamp                                        ..\n",
       "\"                    |- date: date                                           ..\n",
       "\"                    |- time: time                                           ..\n",
       "\"                    |- dt: timestamp                                        ..\n",
       "\"\"\n"
      ]
     },
     "execution_count": 18,
     "metadata": {},
     "output_type": "execute_result"
    }
   ],
   "source": [
    "system \"bq show bqkdb.allBQSimpleTypes2\""
   ]
  },
  {
   "cell_type": "markdown",
   "metadata": {},
   "source": [
    "## Clean-up"
   ]
  },
  {
   "cell_type": "code",
   "execution_count": 19,
   "metadata": {},
   "outputs": [
    {
     "name": "stderr",
     "output_type": "stream",
     "text": [
      "Removing gs://storagebodon/allBQSimpleTypes.csv...\n",
      "/ [1 objects]                                                                   \n",
      "Operation completed over 1 objects.                                              \n"
     ]
    },
    {
     "data": {
      "text/plain": []
     },
     "execution_count": 19,
     "metadata": {},
     "output_type": "execute_result"
    }
   ],
   "source": [
    "// Cloud Storage\n",
    "system \"gsutil rm \", csfilename"
   ]
  },
  {
   "cell_type": "code",
   "execution_count": 20,
   "metadata": {},
   "outputs": [
    {
     "data": {
      "text/plain": []
     },
     "execution_count": 20,
     "metadata": {},
     "output_type": "execute_result"
    },
    {
     "data": {
      "text/plain": []
     },
     "execution_count": 20,
     "metadata": {},
     "output_type": "execute_result"
    },
    {
     "data": {
      "text/plain": []
     },
     "execution_count": 20,
     "metadata": {},
     "output_type": "execute_result"
    }
   ],
   "source": [
    "// local files\n",
    "system \"rm /tmp/allBQSimpleTypes.csv\"\n",
    "system \"rm /tmp/allBQSimpleTypes_fixed.csv\"\n",
    "system \"rm /tmp/allBQSimpleTypes2.csv\""
   ]
  },
  {
   "cell_type": "code",
   "execution_count": 21,
   "metadata": {},
   "outputs": [
    {
     "data": {
      "text/plain": []
     },
     "execution_count": 21,
     "metadata": {},
     "output_type": "execute_result"
    },
    {
     "data": {
      "text/plain": []
     },
     "execution_count": 21,
     "metadata": {},
     "output_type": "execute_result"
    }
   ],
   "source": [
    "// BigQuery table\n",
    "system \"bq rm -f bqkdb.allBQSimpleTypes_fixed\"\n",
    "system \"bq rm -f bqkdb.allBQSimpleTypes2\""
   ]
  }
 ],
 "metadata": {
  "kernelspec": {
   "display_name": "Q (kdb+)",
   "language": "q",
   "name": "qpk"
  },
  "language_info": {
   "file_extension": ".q",
   "mimetype": "text/x-q",
   "name": "q",
   "version": "3.6.0"
  }
 },
 "nbformat": 4,
 "nbformat_minor": 2
}
