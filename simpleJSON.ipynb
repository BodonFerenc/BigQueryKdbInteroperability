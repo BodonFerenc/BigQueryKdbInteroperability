{
 "cells": [
  {
   "cell_type": "code",
   "execution_count": 1,
   "metadata": {},
   "outputs": [],
   "source": [
    "project: getenv `project_id\n",
    "csbucketname: getenv `csbucketname"
   ]
  },
  {
   "cell_type": "markdown",
   "metadata": {},
   "source": [
    "# From BigQuery to kdb"
   ]
  },
  {
   "cell_type": "code",
   "execution_count": 2,
   "metadata": {},
   "outputs": [
    {
     "name": "stderr",
     "output_type": "stream",
     "text": [
      "Waiting on bqjob_r449c22e13fbc4e13_0000016e4638ce7d_1 ... (0s) Current status: DONE   "
     ]
    },
    {
     "data": {
      "text/plain": [
       "\"\"\n"
      ]
     },
     "execution_count": 2,
     "metadata": {},
     "output_type": "execute_result"
    }
   ],
   "source": [
    "// extract from BigQuery to Cloud Storage\n",
    "system \"bq extract --destination_format NEWLINE_DELIMITED_JSON \", project, \":bqkdb.allBQSimpleTypes gs://\", csbucketname, \"/allBQSimpleTypes.json\""
   ]
  },
  {
   "cell_type": "code",
   "execution_count": 3,
   "metadata": {},
   "outputs": [],
   "source": [
    "csfilename: \"gs://\", csbucketname, \"/allBQSimpleTypes.json\""
   ]
  },
  {
   "cell_type": "code",
   "execution_count": null,
   "metadata": {
    "scrolled": false
   },
   "outputs": [
    {
     "name": "stderr",
     "output_type": "stream",
     "text": [
      "Copying gs://storagebodon/allBQSimpleTypes.json...\n",
      "/ [0 files][    0.0 B/  315.0 B]                                                \r"
     ]
    }
   ],
   "source": [
    "// Copy from Cloud Storage to local box\n",
    "system \"gsutil cp \", csfilename, \" /tmp/\""
   ]
  },
  {
   "cell_type": "markdown",
   "metadata": {},
   "source": [
    "## Manual type conversion\n",
    "* string, boolean and float types are properly handled\n",
    "* other types need to be casted manually\n",
    "* timestamps needs minor conversion, chopping timezone information off\n"
   ]
  },
  {
   "cell_type": "code",
   "execution_count": null,
   "metadata": {},
   "outputs": [],
   "source": [
    "decode: {[fM; j] k: .j.k j; key[k]!fM[key k]@'value k}"
   ]
  },
  {
   "cell_type": "code",
   "execution_count": null,
   "metadata": {},
   "outputs": [],
   "source": [
    "formatterMap: (enlist `)!enlist (::)   // default formatter: leave unchanged"
   ]
  },
  {
   "cell_type": "code",
   "execution_count": null,
   "metadata": {},
   "outputs": [],
   "source": [
    "formatterMap[`int]: \"I\"$\n",
    "formatterMap[`ts]: \t{\"P\"$-4 _ x}\n",
    "formatterMap[`date]: \"D\"$\n",
    "formatterMap[`time]: \"T\"$\n",
    "formatterMap[`dt]: \"P\"$"
   ]
  },
  {
   "cell_type": "code",
   "execution_count": null,
   "metadata": {},
   "outputs": [],
   "source": [
    "t: formatterMap decode/: read0 hsym `$\"/tmp/allBQSimpleTypes.json\""
   ]
  },
  {
   "cell_type": "code",
   "execution_count": null,
   "metadata": {},
   "outputs": [],
   "source": [
    "t"
   ]
  },
  {
   "cell_type": "code",
   "execution_count": null,
   "metadata": {},
   "outputs": [],
   "source": [
    "meta t"
   ]
  },
  {
   "cell_type": "markdown",
   "metadata": {},
   "source": [
    "# From kdb to BigQuery\n",
    "\n",
    "Let us save the fixed kdb table to JSON"
   ]
  },
  {
   "cell_type": "code",
   "execution_count": null,
   "metadata": {},
   "outputs": [],
   "source": [
    "save `:/tmp/t.json"
   ]
  },
  {
   "cell_type": "code",
   "execution_count": null,
   "metadata": {},
   "outputs": [],
   "source": [
    "system \"bq load --autodetect --source_format NEWLINE_DELIMITED_JSON bqkdb.allBQSimpleTypes_json /tmp/t.json\""
   ]
  },
  {
   "cell_type": "markdown",
   "metadata": {},
   "source": [
    "We can see that the **column orders do not match**"
   ]
  },
  {
   "cell_type": "code",
   "execution_count": null,
   "metadata": {
    "scrolled": false
   },
   "outputs": [],
   "source": [
    "system \"bq show bqkdb.allBQSimpleTypes_json\""
   ]
  },
  {
   "cell_type": "markdown",
   "metadata": {},
   "source": [
    "## Cleanup"
   ]
  },
  {
   "cell_type": "code",
   "execution_count": null,
   "metadata": {},
   "outputs": [],
   "source": [
    "// Cloud Storage\n",
    "system \"gsutil rm \", csfilename"
   ]
  },
  {
   "cell_type": "code",
   "execution_count": null,
   "metadata": {},
   "outputs": [],
   "source": [
    "// local files\n",
    "system \"rm /tmp/t.json\""
   ]
  },
  {
   "cell_type": "code",
   "execution_count": null,
   "metadata": {},
   "outputs": [],
   "source": [
    "// BigQuery table\n",
    "system \"bq rm -f bqkdb.allBQSimpleTypes_json\""
   ]
  }
 ],
 "metadata": {
  "kernelspec": {
   "display_name": "Q (kdb+)",
   "language": "q",
   "name": "qpk"
  },
  "language_info": {
   "file_extension": ".q",
   "mimetype": "text/x-q",
   "name": "q",
   "version": "3.6.0"
  }
 },
 "nbformat": 4,
 "nbformat_minor": 2
}
